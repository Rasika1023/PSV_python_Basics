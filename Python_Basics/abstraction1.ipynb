{
 "cells": [
  {
   "cell_type": "code",
   "execution_count": 1,
   "metadata": {},
   "outputs": [
    {
     "name": "stdout",
     "output_type": "stream",
     "text": [
      "Hello World\n"
     ]
    }
   ],
   "source": [
    "print(\"Hello World\")"
   ]
  },
  {
   "cell_type": "markdown",
   "metadata": {},
   "source": [
    "It is a concept that allows you to hide complex implementation details and show only the necessary features of an object. Abstraction helps manage the complexity of software systems by providing a simplified and clear interface for interacting with objects while hiding the underlying complexity.\n",
    "\n",
    "In Python, abstraction can be achieved in the following ways:\n",
    "\n",
    "    Abstract Classes: Python allows you to define abstract classes using the abc (Abstract Base Classes) module. An abstract class is a class that cannot be instantiated and serves as a blueprint for other classes. It defines abstract methods (methods without implementations) that must be implemented by its subclasses."
   ]
  },
  {
   "cell_type": "code",
   "execution_count": 2,
   "metadata": {},
   "outputs": [],
   "source": [
    "from abc import ABC, abstractmethod\n",
    "\n",
    "class Shape(ABC):\n",
    "    @abstractmethod\n",
    "    def area(self):\n",
    "        pass\n",
    "\n",
    "class Circle(Shape):\n",
    "    def __init__(self, radius):\n",
    "        self.radius = radius\n",
    "\n",
    "    def area(self):\n",
    "        return 3.14 * self.radius * self.radius\n"
   ]
  },
  {
   "cell_type": "markdown",
   "metadata": {},
   "source": [
    "# Detailed code "
   ]
  },
  {
   "cell_type": "code",
   "execution_count": 19,
   "metadata": {},
   "outputs": [],
   "source": [
    "from abc import ABC, abstractmethod\n",
    "\n",
    "class Shape(ABC):\n",
    "    @abstractmethod\n",
    "    def area(self):\n",
    "        pass\n",
    "\n",
    "class Circle(Shape):\n",
    "    def __init__(self, radius):\n",
    "        self.radius = radius\n",
    "\n",
    "    def area(self):\n",
    "        return 3.14 * self.radius * self.radius\n",
    "\n",
    "class Rectangle(Shape):\n",
    "    def __init__(self, length, width):\n",
    "        self.length = length\n",
    "        self.width = width\n",
    "\n",
    "    def area(self):\n",
    "        return self.length * self.width\n",
    "\n",
    "class Square(Shape):\n",
    "    def __init__(self, side):\n",
    "        self.side = side\n",
    "\n",
    "    def area(self):\n",
    "        return self.side ** 2\n",
    "\n",
    "class Triangle(Shape):\n",
    "    def __init__(self, base, height):\n",
    "        self.base = base\n",
    "        self.height = height\n",
    "\n",
    "    def area(self):\n",
    "        return 0.5 * self.base * self.height\n",
    "\n",
    "class Rhombus(Shape):\n",
    "    def __init__(self, diagonal1, diagonal2):\n",
    "        self.diagonal1 = diagonal1\n",
    "        self.diagonal2 = diagonal2\n",
    "\n",
    "    def area(self):\n",
    "        return 0.5 * self.diagonal1 * self.diagonal2\n",
    "\n",
    "class Parallelogram(Shape):\n",
    "    def __init__(self, base, height):\n",
    "        self.base = base\n",
    "        self.height = height\n",
    "\n",
    "    def area(self):\n",
    "        return self.base * self.height\n",
    "\n"
   ]
  },
  {
   "cell_type": "code",
   "execution_count": 21,
   "metadata": {},
   "outputs": [],
   "source": [
    "# Example usage:\n",
    "circle = Circle(radius=5)\n",
    "rectangle = Rectangle(length=4, width=6)\n",
    "square = Square(side=4)\n",
    "triangle = Triangle(base=5, height=3)\n",
    "rhombus = Rhombus(diagonal1=4, diagonal2=6)\n",
    "parallelogram = Parallelogram(base=5, height=4)\n",
    "\n",
    "shapes = [circle, rectangle, square, triangle, rhombus, parallelogram]\n",
    "\n"
   ]
  },
  {
   "cell_type": "code",
   "execution_count": 22,
   "metadata": {},
   "outputs": [
    {
     "name": "stdout",
     "output_type": "stream",
     "text": [
      "Area of Circle: 78.5\n",
      "Area of Rectangle: 24\n",
      "Area of Square: 16\n",
      "Area of Triangle: 7.5\n",
      "Area of Rhombus: 12.0\n",
      "Area of Parallelogram: 20\n"
     ]
    }
   ],
   "source": [
    "for shape in shapes:\n",
    "    print(f\"Area of {shape.__class__.__name__}: {shape.area()}\")\n"
   ]
  },
  {
   "cell_type": "code",
   "execution_count": 23,
   "metadata": {},
   "outputs": [
    {
     "name": "stdout",
     "output_type": "stream",
     "text": [
      "Area of Circle: 78.5\n",
      "Area of Rectangle: 24\n",
      "Area of Square: 16\n",
      "Area of Triangle: 7.5\n",
      "Area of Rhombus: 12.0\n",
      "Area of Parallelogram: 20\n"
     ]
    }
   ],
   "source": [
    "circle = Circle(radius=5)\n",
    "rectangle = Rectangle(length=4, width=6)\n",
    "square = Square(side=4)\n",
    "triangle = Triangle(base=5, height=3)\n",
    "rhombus = Rhombus(diagonal1=4, diagonal2=6)\n",
    "parallelogram = Parallelogram(base=5, height=4)\n",
    "\n",
    "print(f\"Area of Circle: {circle.area()}\")\n",
    "print(f\"Area of Rectangle: {rectangle.area()}\")\n",
    "print(f\"Area of Square: {square.area()}\")\n",
    "print(f\"Area of Triangle: {triangle.area()}\")\n",
    "print(f\"Area of Rhombus: {rhombus.area()}\")\n",
    "print(f\"Area of Parallelogram: {parallelogram.area()}\")\n"
   ]
  },
  {
   "cell_type": "code",
   "execution_count": 24,
   "metadata": {},
   "outputs": [
    {
     "name": "stdout",
     "output_type": "stream",
     "text": [
      "Choose a shape to calculate its area:\n",
      "1. Circle\n",
      "2. Rectangle\n",
      "Area of the circle with radius 35.0 is: 3846.5\n"
     ]
    }
   ],
   "source": [
    "from abc import ABC, abstractmethod\n",
    "\n",
    "class Shape(ABC):\n",
    "    @abstractmethod\n",
    "    def area(self):\n",
    "        pass\n",
    "\n",
    "class Circle(Shape):\n",
    "    def __init__(self, radius):\n",
    "        self.radius = radius\n",
    "\n",
    "    def area(self):\n",
    "        return 3.14 * self.radius * self.radius\n",
    "\n",
    "class Rectangle(Shape):\n",
    "    def __init__(self, length, width):\n",
    "        self.length = length\n",
    "        self.width = width\n",
    "\n",
    "    def area(self):\n",
    "        return self.length * self.width\n",
    "\n",
    "# Function to calculate the area of a shape based on user input\n",
    "def calculate_area():\n",
    "    print(\"Choose a shape to calculate its area:\")\n",
    "    print(\"1. Circle\")\n",
    "    print(\"2. Rectangle\")\n",
    "    choice = input(\"Enter your choice (1/2): \")\n",
    "\n",
    "    if choice == '1':\n",
    "        radius = float(input(\"Enter the radius of the circle: \"))\n",
    "        circle = Circle(radius)\n",
    "        area = circle.area()\n",
    "        print(f\"Area of the circle with radius {radius} is: {area}\")\n",
    "    elif choice == '2':\n",
    "        length = float(input(\"Enter the length of the rectangle: \"))\n",
    "        width = float(input(\"Enter the width of the rectangle: \"))\n",
    "        rectangle = Rectangle(length, width)\n",
    "        area = rectangle.area()\n",
    "        print(f\"Area of the rectangle with length {length} and width {width} is: {area}\")\n",
    "    else:\n",
    "        print(\"Invalid choice\")\n",
    "\n",
    "# Main program\n",
    "calculate_area()\n"
   ]
  },
  {
   "cell_type": "markdown",
   "metadata": {},
   "source": [
    "In this example, we've created classes for each shape (e.g., Rectangle, Square, Triangle, Rhombus, Parallelogram) that inherit from the Shape abstract class. Each shape class provides its implementation of the area() method to calculate the area specific to that shape. The program then calculates and prints the areas of various shapes using a list of shape objects."
   ]
  },
  {
   "cell_type": "markdown",
   "metadata": {},
   "source": [
    "Interfaces: While Python does not have a specific interface keyword like some other programming languages, you can achieve interface-like behavior using abstract classes with only abstract methods. Subclasses that inherit from such abstract classes are required to implement all abstract methods.\n",
    "\n",
    "Encapsulation: Encapsulation, as mentioned earlier, is closely related to abstraction. It hides the internal implementation details of a class and exposes a clean and well-defined interface. By using access modifiers (e.g., private attributes), you can control what data and methods are accessible from outside the class."
   ]
  },
  {
   "cell_type": "code",
   "execution_count": 3,
   "metadata": {},
   "outputs": [
    {
     "name": "stdout",
     "output_type": "stream",
     "text": [
      "Buddy says Woof!\n",
      "Whiskers says Meow!\n"
     ]
    }
   ],
   "source": [
    "from abc import ABC, abstractmethod\n",
    "\n",
    "class Animal(ABC):\n",
    "    def __init__(self, name):\n",
    "        self.name = name\n",
    "\n",
    "    @abstractmethod\n",
    "    def speak(self):\n",
    "        pass\n",
    "\n",
    "class Dog(Animal):\n",
    "    def speak(self):\n",
    "        return f\"{self.name} says Woof!\"\n",
    "\n",
    "class Cat(Animal):\n",
    "    def speak(self):\n",
    "        return f\"{self.name} says Meow!\"\n",
    "\n",
    "# Usage\n",
    "dog = Dog(\"Buddy\")\n",
    "cat = Cat(\"Whiskers\")\n",
    "\n",
    "print(dog.speak())  # Output: \"Buddy says Woof!\"\n",
    "print(cat.speak())  # Output: \"Whiskers says Meow!\"\n"
   ]
  },
  {
   "cell_type": "markdown",
   "metadata": {},
   "source": [
    "In this example, the Animal class is an abstract class with an abstract method speak(). The Dog and Cat classes inherit from Animal and provide specific implementations for the speak() method. This demonstrates abstraction by defining a clear interface (the speak() method) while hiding the implementation details of each animal's sound."
   ]
  },
  {
   "cell_type": "markdown",
   "metadata": {},
   "source": [
    "In the Human and Student classes, we can demonstrate abstraction by defining an abstract method in the Human class and implementing it in the Student subclass. In this example, we'll define an abstract method called show_info() in the Human class, which should display information about the object. Each subclass (Student in this case) will be required to provide its implementation for this method.\n",
    "\n",
    "Here's how you can achieve abstraction with the Human and Student classes:"
   ]
  },
  {
   "cell_type": "code",
   "execution_count": 14,
   "metadata": {},
   "outputs": [],
   "source": [
    "from abc import ABC, abstractmethod\n",
    "\n",
    "class Human(ABC):\n",
    "    def __init__(self, name='Kavin', age=35, sex='Male'):\n",
    "        self.name = name\n",
    "        self.age = age\n",
    "        self.sex = sex\n",
    "\n",
    "    @abstractmethod\n",
    "    def show_info(self):\n",
    "        pass\n",
    "\n",
    "    def greet(self):\n",
    "        print(f\"Hello, I am {self.name}, and I am {self.age} years old. Welcome to my home.\")\n",
    "\n",
    "    def __str__(self):\n",
    "        return self.name\n",
    "\n",
    "class Student(Human):\n",
    "    def __init__(self, name, age, sex, department, college):\n",
    "        super().__init__(name, age, sex)\n",
    "        self.department = department\n",
    "        self.college = college\n",
    "\n",
    "    def intro(self):\n",
    "        print(f\"I am {self.name}, studying in {self.college}, in the {self.department} department.\")\n",
    "\n",
    "    def get_name(self):\n",
    "        return self.name\n",
    "\n",
    "    def show_info(self):\n",
    "        print(f\"Name: {self.name}\")\n",
    "        print(f\"Age: {self.age}\")\n",
    "        print(f\"Sex: {self.sex}\")\n",
    "        print(f\"Department: {self.department}\")\n",
    "        print(f\"College: {self.college}\")"
   ]
  },
  {
   "cell_type": "code",
   "execution_count": 17,
   "metadata": {},
   "outputs": [],
   "source": [
    "# Instantiate a Student object, not a Human object\n",
    "student1 = Student(name=\"Bob\", age=20, sex=\"Male\", department=\"Computer Science\", college=\"XYZ University\")"
   ]
  },
  {
   "cell_type": "code",
   "execution_count": 18,
   "metadata": {},
   "outputs": [
    {
     "name": "stdout",
     "output_type": "stream",
     "text": [
      "Name: Bob\n",
      "Age: 20\n",
      "Sex: Male\n",
      "Department: Computer Science\n",
      "College: XYZ University\n"
     ]
    }
   ],
   "source": [
    "# Call the show_info method\n",
    "student1.show_info()"
   ]
  },
  {
   "cell_type": "markdown",
   "metadata": {},
   "source": [
    "we instantiate a Student object (student1) instead of trying to instantiate a Human object directly, which would lead to a TypeError. We then call the show_info() method on the Student object to demonstrate abstraction. This approach correctly adheres to Python's abstract class restrictions."
   ]
  }
 ],
 "metadata": {
  "kernelspec": {
   "display_name": "Python 3",
   "language": "python",
   "name": "python3"
  },
  "language_info": {
   "codemirror_mode": {
    "name": "ipython",
    "version": 3
   },
   "file_extension": ".py",
   "mimetype": "text/x-python",
   "name": "python",
   "nbconvert_exporter": "python",
   "pygments_lexer": "ipython3",
   "version": "3.11.4"
  },
  "orig_nbformat": 4
 },
 "nbformat": 4,
 "nbformat_minor": 2
}
