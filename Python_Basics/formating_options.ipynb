{
 "cells": [
  {
   "cell_type": "markdown",
   "metadata": {},
   "source": [
    "# String formatting in Python"
   ]
  },
  {
   "cell_type": "markdown",
   "metadata": {},
   "source": [
    "String formatting in Python\n",
    "There are five different ways to perform string formatting in Python\n",
    "\n",
    "    Formatting with % Operator.\n",
    "    Formatting with format() string method.\n",
    "    Formatting with string literals, called f-strings.\n",
    "    Formatting with String Template Class\n",
    "    Formatting with center() string method."
   ]
  },
  {
   "cell_type": "markdown",
   "metadata": {},
   "source": [
    "Formatting string using % Operator\n",
    "\n",
    "It is the oldest method of string formatting. Here we use the modulo % operator. The modulo % is also known as the “string-formatting operator”.\n",
    "String Formatting using the % Operator\n",
    "\n",
    "In this code, the % operator is used for string formatting. The expression “%s gobbled down” % hurriedly formats the string by replacing the %s placeholder with the value hurriedly."
   ]
  },
  {
   "cell_type": "code",
   "execution_count": 1,
   "metadata": {},
   "outputs": [
    {
     "name": "stdout",
     "output_type": "stream",
     "text": [
      "The mangy, scrawny stray dog hurriedly gobbled downthe grain-free, organic dog food.\n"
     ]
    }
   ],
   "source": [
    "print(\"The mangy, scrawny stray dog %s gobbled down\" %'hurriedly' +\n",
    "\t\"the grain-free, organic dog food.\")\n"
   ]
  },
  {
   "cell_type": "code",
   "execution_count": 2,
   "metadata": {},
   "outputs": [
    {
     "name": "stdout",
     "output_type": "stream",
     "text": [
      "Misha walked and looked around\n"
     ]
    }
   ],
   "source": [
    "x = 'looked'\n",
    "\n",
    "print(\"Misha %s and %s around\"%('walked',x))\n"
   ]
  },
  {
   "cell_type": "markdown",
   "metadata": {},
   "source": [
    "Floating-point numbers use the format %a.bf. Here, a would be the minimum number of digits to be present in the string; these might be padded with white space if the whole number doesn’t have this many digits. Close to this, bf represents how many digits are to be displayed after the decimal point. \n",
    "\n",
    "In this code, the string ‘The value of pi is: %5.4f’ contains a format specifier %5.4f. The %5.4f format specifier is used to format a floating-point number with a minimum width of 5 and a precision of 4 decimal places."
   ]
  },
  {
   "cell_type": "code",
   "execution_count": 6,
   "metadata": {},
   "outputs": [
    {
     "name": "stdout",
     "output_type": "stream",
     "text": [
      "hai car is costing around: 54324453543.87\n",
      "hai car is costing around: 54324453543.8744\n",
      "hai car is costing around: 43.8744\n"
     ]
    }
   ],
   "source": [
    "print('hai car is costing around: %5.2f' %(54324453543.8743897))\n",
    "print('hai car is costing around: %5.4f' %(54324453543.8743897))\n",
    "print('hai car is costing around: %5.4f' %(43.8743897))"
   ]
  },
  {
   "cell_type": "code",
   "execution_count": 7,
   "metadata": {},
   "outputs": [
    {
     "name": "stdout",
     "output_type": "stream",
     "text": [
      "Variable as integer = 450 \n",
      "Variable as float = 450.000000\n"
     ]
    }
   ],
   "source": [
    "variable = 450\n",
    "string = \"Variable as integer = %d \\n\\\n",
    "Variable as float = %f\" %(variable, variable)\n",
    "print (string)\n"
   ]
  },
  {
   "cell_type": "markdown",
   "metadata": {},
   "source": [
    "Formatting using format() Method\n",
    "\n",
    "Format() method was introduced with Python3 for handling complex string formatting more efficiently. Formatters work by putting in one or more replacement fields and placeholders defined by a pair of curly braces { } into a string and calling the str.format(). The value we wish to put into the placeholders and concatenate with the string passed as parameters into the format function. "
   ]
  },
  {
   "cell_type": "markdown",
   "metadata": {},
   "source": [
    "Syntax: ‘String here {} then also {}’.format(‘something1′,’something2’)"
   ]
  },
  {
   "cell_type": "code",
   "execution_count": 35,
   "metadata": {},
   "outputs": [
    {
     "name": "stdout",
     "output_type": "stream",
     "text": [
      "We all are equal And also different, 67\n"
     ]
    }
   ],
   "source": [
    "print('We all are {} And also {}, {}'.format('equal', 'different', 67))\n"
   ]
  },
  {
   "cell_type": "markdown",
   "metadata": {},
   "source": [
    "Index-based Insertion\n",
    "\n",
    "In this code, curly braces {} with indices are used within the string ‘{2} {1} {0}’ to indicate the positions where the corresponding values will be placed."
   ]
  },
  {
   "cell_type": "code",
   "execution_count": 12,
   "metadata": {},
   "outputs": [
    {
     "name": "stdout",
     "output_type": "stream",
     "text": [
      "who are Hello you\n"
     ]
    }
   ],
   "source": [
    "print('{2} {0} {1} {3}'.format('are','Hello', 'who', 'you'))\n"
   ]
  },
  {
   "cell_type": "markdown",
   "metadata": {},
   "source": [
    "Insert object by Assigning Keywords\n",
    "\n",
    "In this code, curly braces {} with named placeholders ({a}, {b}, {c}) are used within the string ‘a: {a}, b: {b}, c: {c}’ to indicate the positions where the corresponding named arguments will be placed."
   ]
  },
  {
   "cell_type": "code",
   "execution_count": 36,
   "metadata": {},
   "outputs": [
    {
     "name": "stdout",
     "output_type": "stream",
     "text": [
      "i am  studying in PSV\n"
     ]
    }
   ],
   "source": [
    "print('{a} {b} {c}'.format(b = 'studying',c = 'in PSV',a = 'i am '))\n"
   ]
  },
  {
   "cell_type": "markdown",
   "metadata": {},
   "source": [
    "Reuse the inserted objects"
   ]
  },
  {
   "cell_type": "code",
   "execution_count": 19,
   "metadata": {},
   "outputs": [
    {
     "name": "stdout",
     "output_type": "stream",
     "text": [
      "second  second second \n",
      "Raju is a good student. Raju is a staying in Krishanagiri \n"
     ]
    }
   ],
   "source": [
    "print('{p}  {p} {p} '.format(p='second'))\n",
    "print('{p} is a good student. {p} is a staying in {a} '.format(a = 'Krishanagiri', p = 'Raju'))"
   ]
  },
  {
   "cell_type": "markdown",
   "metadata": {},
   "source": [
    "Float Precision with the.format() Method\n",
    "\n",
    "    Syntax: {[index]:[width][.precision][type]}\n",
    "\n",
    "    The type can be used with format codes:\n",
    "\n",
    "        ‘d’ for integers\n",
    "        ‘f’ for floating-point numbers\n",
    "        ‘b’ for binary numbers\n",
    "        ‘o’ for octal numbers\n",
    "        ‘x’ for octal hexadecimal numbers\n",
    "        ‘s’ for string\n",
    "        ‘e’ for floating-point in an exponent format"
   ]
  },
  {
   "cell_type": "code",
   "execution_count": 20,
   "metadata": {},
   "outputs": [
    {
     "name": "stdout",
     "output_type": "stream",
     "text": [
      "The valueof pi is: 3.14159\n",
      "The valueof pi is: 3.14159\n"
     ]
    }
   ],
   "source": [
    "print('The valueof pi is: %1.5f' %3.141592)\n",
    "print('The valueof pi is: {0:1.5f}'.format(3.141592))\n"
   ]
  },
  {
   "cell_type": "markdown",
   "metadata": {},
   "source": [
    "String Formatting with F-Strings\n",
    "\n",
    "In this code, the f-string f”My name is {name}.” is used to interpolate the value of the name variable into the string."
   ]
  },
  {
   "cell_type": "code",
   "execution_count": 37,
   "metadata": {},
   "outputs": [
    {
     "name": "stdout",
     "output_type": "stream",
     "text": [
      "My name is Raju.\n"
     ]
    }
   ],
   "source": [
    "name = 'Raju'\n",
    "print(f\"My name is {name}.\")\n"
   ]
  },
  {
   "cell_type": "code",
   "execution_count": 23,
   "metadata": {},
   "outputs": [
    {
     "name": "stdout",
     "output_type": "stream",
     "text": [
      "He said his age is 10.\n"
     ]
    }
   ],
   "source": [
    "a = 2\n",
    "b = 3\n",
    "print(f\"He said his age is {2 * (a + b)}.\")\n"
   ]
  },
  {
   "cell_type": "markdown",
   "metadata": {},
   "source": [
    "Formatting string using Template Class"
   ]
  },
  {
   "cell_type": "code",
   "execution_count": 30,
   "metadata": {},
   "outputs": [
    {
     "name": "stdout",
     "output_type": "stream",
     "text": [
      "Hi John Doe, welcome to StackAbuse.com\n"
     ]
    }
   ],
   "source": [
    "from string import Template\n",
    "temp_str = 'Hi $name, welcome to $site'\n",
    "temp_obj = Template(temp_str)\n",
    "# temp_obj.substitute(name='John Doe', site='PSV College.')\n",
    "a = temp_obj.substitute(name='John Doe', site='StackAbuse.com')\n",
    "\n",
    "print(a)"
   ]
  },
  {
   "cell_type": "markdown",
   "metadata": {},
   "source": [
    "Formatting string using center() method"
   ]
  },
  {
   "cell_type": "code",
   "execution_count": 31,
   "metadata": {},
   "outputs": [
    {
     "name": "stdout",
     "output_type": "stream",
     "text": [
      "                Hai hello Welocme                 \n"
     ]
    }
   ],
   "source": [
    "string = \"Hai hello Welocme\"\n",
    "width = 50\n",
    "\n",
    "centered_string = string.center(width)\n",
    "\n",
    "print(centered_string)\n"
   ]
  }
 ],
 "metadata": {
  "kernelspec": {
   "display_name": "Python 3",
   "language": "python",
   "name": "python3"
  },
  "language_info": {
   "codemirror_mode": {
    "name": "ipython",
    "version": 3
   },
   "file_extension": ".py",
   "mimetype": "text/x-python",
   "name": "python",
   "nbconvert_exporter": "python",
   "pygments_lexer": "ipython3",
   "version": "3.11.4"
  },
  "orig_nbformat": 4
 },
 "nbformat": 4,
 "nbformat_minor": 2
}
